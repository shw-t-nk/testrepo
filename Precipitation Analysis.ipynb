{
    "cells": [
        {
            "cell_type": "markdown",
            "metadata": {},
            "source": "Description"
        },
        {
            "cell_type": "code",
            "execution_count": 1,
            "metadata": {},
            "outputs": [
                {
                    "data": {
                        "text/html": "<div>\n<style scoped>\n    .dataframe tbody tr th:only-of-type {\n        vertical-align: middle;\n    }\n\n    .dataframe tbody tr th {\n        vertical-align: top;\n    }\n\n    .dataframe thead th {\n        text-align: right;\n    }\n</style>\n<table border=\"1\" class=\"dataframe\">\n  <thead>\n    <tr style=\"text-align: right;\">\n      <th></th>\n      <th>Source</th>\n      <th>target</th>\n      <th>recom-href</th>\n    </tr>\n  </thead>\n  <tbody>\n    <tr>\n      <th>0</th>\n      <td>https://www.youtube.com/results?search_query=B...</td>\n      <td>https://www.youtube.com/watch?v=5xZWRM4KR7w</td>\n      <td>https://www.youtube.com/watch?v=UTwtK-H1_A0</td>\n    </tr>\n    <tr>\n      <th>1</th>\n      <td>https://www.youtube.com/results?search_query=B...</td>\n      <td>https://www.youtube.com/watch?v=qiYUl3T2eRc</td>\n      <td>https://www.youtube.com/watch?v=4zDKORVwMOs</td>\n    </tr>\n    <tr>\n      <th>2</th>\n      <td>https://www.youtube.com/results?search_query=B...</td>\n      <td>https://www.youtube.com/watch?v=qiYUl3T2eRc</td>\n      <td>https://www.youtube.com/watch?v=F-nNTGK0wFw</td>\n    </tr>\n    <tr>\n      <th>3</th>\n      <td>https://www.youtube.com/results?search_query=B...</td>\n      <td>https://www.youtube.com/watch?v=5xZWRM4KR7w</td>\n      <td>https://www.youtube.com/watch?v=yEPSJF7BYOo</td>\n    </tr>\n    <tr>\n      <th>4</th>\n      <td>https://www.youtube.com/results?search_query=B...</td>\n      <td>https://www.youtube.com/watch?v=5xZWRM4KR7w</td>\n      <td>https://www.youtube.com/watch?v=NTpt7jdMtqU</td>\n    </tr>\n  </tbody>\n</table>\n</div>",
                        "text/plain": "                                              Source  \\\n0  https://www.youtube.com/results?search_query=B...   \n1  https://www.youtube.com/results?search_query=B...   \n2  https://www.youtube.com/results?search_query=B...   \n3  https://www.youtube.com/results?search_query=B...   \n4  https://www.youtube.com/results?search_query=B...   \n\n                                        target  \\\n0  https://www.youtube.com/watch?v=5xZWRM4KR7w   \n1  https://www.youtube.com/watch?v=qiYUl3T2eRc   \n2  https://www.youtube.com/watch?v=qiYUl3T2eRc   \n3  https://www.youtube.com/watch?v=5xZWRM4KR7w   \n4  https://www.youtube.com/watch?v=5xZWRM4KR7w   \n\n                                    recom-href  \n0  https://www.youtube.com/watch?v=UTwtK-H1_A0  \n1  https://www.youtube.com/watch?v=4zDKORVwMOs  \n2  https://www.youtube.com/watch?v=F-nNTGK0wFw  \n3  https://www.youtube.com/watch?v=yEPSJF7BYOo  \n4  https://www.youtube.com/watch?v=NTpt7jdMtqU  "
                    },
                    "execution_count": 1,
                    "metadata": {},
                    "output_type": "execute_result"
                }
            ],
            "source": "# The code was removed by Watson Studio for sharing."
        },
        {
            "cell_type": "markdown",
            "metadata": {},
            "source": "checking integration with github"
        },
        {
            "cell_type": "code",
            "execution_count": null,
            "metadata": {},
            "outputs": [],
            "source": ""
        },
        {
            "cell_type": "code",
            "execution_count": null,
            "metadata": {},
            "outputs": [],
            "source": ""
        }
    ],
    "metadata": {
        "kernelspec": {
            "display_name": "Python 3.9",
            "language": "python",
            "name": "python3"
        },
        "language_info": {
            "codemirror_mode": {
                "name": "ipython",
                "version": 3
            },
            "file_extension": ".py",
            "mimetype": "text/x-python",
            "name": "python",
            "nbconvert_exporter": "python",
            "pygments_lexer": "ipython3",
            "version": "3.9.12"
        }
    },
    "nbformat": 4,
    "nbformat_minor": 1
}